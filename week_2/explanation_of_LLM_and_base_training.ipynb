{
 "cells": [
  {
   "cell_type": "markdown",
   "metadata": {},
   "source": [
    "## How an LLM Learns"
   ]
  },
  {
   "cell_type": "markdown",
   "metadata": {},
   "source": [
    "\n",
    "There are 2 main types of LLM training:\n",
    "1. Pre-training. (let model learn from the data)\n",
    "2. Supervised fine-tuning. (let model respons how people would like to see it)\n",
    "\n",
    "\n",
    "For our case we will consider the pra-training as first step.\n",
    "\n",
    "You can imagine giant machine with millions of adjustable knobs.\n",
    "\n",
    "Training process consist of this loop:\n",
    "1. **Predict:** Give the model a text snippet, and ask it to guess the next word.\n",
    "2. **Compare:** Compare the predicted word with the actual word.\n",
    "3. **Calculate Error (loss):** Calculate the error between the predicted word and the actual word.\n",
    "4. **Update (Learn):** Slightly adjust all the millions of knobs in a direction that would make the guess less wrong\n"
   ]
  },
  {
   "cell_type": "code",
   "execution_count": null,
   "metadata": {},
   "outputs": [],
   "source": [
    "from transformers import AutoTokenizer\n",
    "\n",
    "text_data = \"Hello, how are you?\"\n",
    "\n",
    "tokenizer = AutoTokenizer.from_pretrained(\"google/gemma-3-1b-it\")\n",
    "\n",
    "encoded_text = tokenizer.encode(text_data)\n",
    "print(encoded_text)\n",
    "\n",
    "decoded_text = tokenizer.decode(encoded_text)\n",
    "print(decoded_text)\n",
    "\n",
    "\n",
    "\n",
    "\n",
    "\n"
   ]
  }
 ],
 "metadata": {
  "kernelspec": {
   "display_name": "base",
   "language": "python",
   "name": "python3"
  },
  "language_info": {
   "name": "python",
   "version": "3.9.13"
  }
 },
 "nbformat": 4,
 "nbformat_minor": 2
}
